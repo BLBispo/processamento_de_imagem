{
 "cells": [
  {
   "cell_type": "code",
   "execution_count": 1,
   "id": "277fc438-4bda-438c-84ff-1fada792a9b9",
   "metadata": {},
   "outputs": [],
   "source": [
    "# @title\n",
    "### EP2 MAC0417 / MAC5768\n",
    "##################################################################\n",
    "# AO PREENCHER ESSE CABEÇALHO COM O MEU NOME E O MEU NÚMERO USP,#\n",
    "# DECLARO QUE SOU O ÚNICO AUTOR E RESPONSÁVEL PELA RESOLUÇÃO #\n",
    "# DESTE EP. #\n",
    "# TODAS AS PARTES FORAM DESENVOLVIDAS E IMPLEMENTADAS POR MIM, #\n",
    "# SEGUINDO AS INSTRUÇÕES E QUE PORTANTO, NÃO CONSTITUEM #\n",
    "# DESONESTIDADE ACADÊMICA OU PLÁGIO. #\n",
    "# #\n",
    "# DECLARO TAMBÉM, QUE SOU RESPONSÁVEL POR TODAS AS CÓPIAS #\n",
    "# DESSE PROGRAMA, E QUE EU NÃO DISTRIBUI OU FACILITEI A #\n",
    "# SUA DISTRIBUIÇÃO. ESTOU CIENTE QUE OS CASOS DE PLÁGIO E #\n",
    "# DESONESTIDADE ACADÊMICA SERÃO TRATADOS SEGUNDO OS CRITÉRIOS #\n",
    "# DEFINIDOS NO CÓDIGO DE ÉTICA DA USP. #\n",
    "# #\n",
    "# ENTENDO QUE JUPYTER NOTEBOOKS SEM ASSINATURA NÃO SERÃO #\n",
    "# CORRIGIDOS E, AINDA ASSIM, PODERÃO SER PUNIDOS POR #\n",
    "# DESONESTIDADE ACADÊMICA. #\n",
    "# #\n",
    "# #\n",
    "# Nome : Bruna Luiza Bispo\n",
    "# NUSP : 11488516\n",
    "# Turma: MAC5768 - Visão e Processamento de Imagens (2024)\n",
    "# Prof.: Ronaldo Fumio Hashimoto\n",
    "##################################################################"
   ]
  },
  {
   "cell_type": "code",
   "execution_count": 2,
   "id": "b5b258ee-695a-4a39-93a7-164704e87a5d",
   "metadata": {},
   "outputs": [],
   "source": [
    "import pandas as pd\n",
    "import numpy as np\n",
    "import matplotlib.pyplot as plt\n",
    "import os\n",
    "import cv2\n",
    "from cv2 import imwrite"
   ]
  },
  {
   "cell_type": "code",
   "execution_count": 3,
   "id": "565adf88-0136-426f-99a2-58ff08ba24d3",
   "metadata": {},
   "outputs": [],
   "source": [
    "#Caminhos EP2\n",
    "#originalGrayDataset\n",
    "#augmentedDataset_expo\n",
    "#augmentedDataset_laplaciano\n",
    "#augmentedDataset_log\n",
    "#augmentedDataset_media\n",
    "#augmentedDataset_stretching\n",
    "#normalizedDataset_expo\n",
    "#normalizedDataset_laplaciano\n",
    "#normalizedDataset_log\n",
    "#normalizedDataset_media\n",
    "#normalizedDataset_stretching"
   ]
  },
  {
   "cell_type": "code",
   "execution_count": 4,
   "id": "a5d72200-a844-4ece-a56f-7d12dd5fe737",
   "metadata": {},
   "outputs": [],
   "source": [
    "#Parametros\n",
    "kernel_size = 3\n",
    "sigma = 2"
   ]
  },
  {
   "cell_type": "code",
   "execution_count": 5,
   "id": "ea9b8991-07f3-40fa-808a-b4ecfeea66c1",
   "metadata": {},
   "outputs": [],
   "source": [
    "def gaussian_kernel(size, sigma=1):\n",
    "    kernel = np.fromfunction(\n",
    "        lambda x, y: (1/ (2 * np.pi * sigma**2)) * np.exp( - ((x - (size-1)/2)**2 + (y - (size-1)/2)**2) / (2 * sigma**2)), \n",
    "        (size, size)\n",
    "    )\n",
    "    return kernel / np.sum(kernel)\n",
    "\n",
    "gaussian_kernel = gaussian_kernel(kernel_size, sigma)\n",
    "\n",
    "def convolucao(image, kernel):\n",
    "    kernel_height, kernel_width = kernel.shape\n",
    "    image_height, image_width = image.shape\n",
    "    \n",
    "    pad_height = kernel_height // 2\n",
    "    pad_width = kernel_width // 2\n",
    "    \n",
    "    padded_image = np.pad(image, ((pad_height, pad_height), (pad_width, pad_width)), mode='constant')\n",
    "    \n",
    "    new_image = np.zeros_like(image)\n",
    "    \n",
    "    for i in range(image_height):\n",
    "        for j in range(image_width):\n",
    "            new_image[i, j] = np.sum(padded_image[i:i+kernel_height, j:j+kernel_width] * kernel)\n",
    "    \n",
    "    return new_image"
   ]
  },
  {
   "cell_type": "code",
   "execution_count": 6,
   "id": "cf11e0f6-65a5-45eb-9488-4cb6ac824309",
   "metadata": {},
   "outputs": [],
   "source": [
    "for nome_pasta in os.listdir():\n",
    "    if os.path.isdir(nome_pasta) and nome_pasta != '.ipynb_checkpoints':\n",
    "        caminho_gaussiano = nome_pasta + '_gaussiano'\n",
    "        if not os.path.isdir(caminho_gaussiano):\n",
    "            os.mkdir(caminho_gaussiano)\n",
    "        for nome_arquivo in os.listdir(nome_pasta):\n",
    "            if \".jpeg\" in nome_arquivo:\n",
    "                imagem_cinza = plt.imread(os.path.join(nome_pasta, nome_arquivo))\n",
    "                imagem_gaussiana = convolucao(imagem_cinza, gaussian_kernel)\n",
    "                imwrite(os.path.join(caminho_gaussiano, nome_arquivo), imagem_gaussiana)"
   ]
  },
  {
   "cell_type": "code",
   "execution_count": 7,
   "id": "c857ed25-f7c8-4d4e-a9c0-d776fa728bbc",
   "metadata": {},
   "outputs": [],
   "source": [
    "def media(imagem, kernel_size):  \n",
    "    image_height, image_width = imagem.shape\n",
    "    \n",
    "    pad_height = kernel_size // 2\n",
    "    pad_width = kernel_size // 2\n",
    "    padded_image = np.pad(imagem, ((pad_height, pad_height), (pad_width, pad_width)), mode='constant')\n",
    "    \n",
    "    # Nova imagem\n",
    "    new_image = np.zeros_like(imagem)\n",
    "    \n",
    "    # Aplicar o filtro de mediana\n",
    "    for i in range(image_height):\n",
    "        for j in range(image_width):\n",
    "            # Extrair a subjanela\n",
    "            sub_window = padded_image[i:i+kernel_size, j:j+kernel_size]\n",
    "            # Calcular a mediana e atribuir ao pixel central\n",
    "            new_image[i, j] = np.median(sub_window)\n",
    "    \n",
    "    return new_image"
   ]
  },
  {
   "cell_type": "code",
   "execution_count": null,
   "id": "2d4dc99e-621c-4bbb-9221-44250c211558",
   "metadata": {},
   "outputs": [],
   "source": [
    "for nome_pasta in os.listdir():\n",
    "    if os.path.isdir(nome_pasta) and nome_pasta != '.ipynb_checkpoints':\n",
    "        caminho_media = nome_pasta + '_media'\n",
    "        if not os.path.isdir(caminho_media):\n",
    "            os.mkdir(caminho_media)\n",
    "        for nome_arquivo in os.listdir(nome_pasta):\n",
    "            if \".jpeg\" in nome_arquivo:\n",
    "                imagem_cinza = plt.imread(os.path.join(nome_pasta, nome_arquivo))\n",
    "                imagem_media = media(imagem_cinza, kernel_size)\n",
    "                imwrite(os.path.join(caminho_media, nome_arquivo), imagem_media)"
   ]
  },
  {
   "cell_type": "code",
   "execution_count": null,
   "id": "fb135e72-db07-4063-abba-cb9bc2d863dc",
   "metadata": {},
   "outputs": [],
   "source": [
    "def compute_gradient(image):\n",
    "    # Kernels de Sobel\n",
    "    Kx = np.array([[-1, 0, 1], [-2, 0, 2], [-1, 0, 1]])\n",
    "    Ky = np.array([[-1, -2, -1], [0, 0, 0], [1, 2, 1]])\n",
    "    \n",
    "    # Obter dimensões da imagem\n",
    "    height, width = image.shape\n",
    "    \n",
    "    # Aplicar padding\n",
    "    padded_image = np.pad(image, ((1, 1), (1, 1)), mode='constant')\n",
    "    \n",
    "    # Gradientes\n",
    "    Gx = np.zeros_like(image)\n",
    "    Gy = np.zeros_like(image)\n",
    "    \n",
    "    for i in range(1, height+1):\n",
    "        for j in range(1, width+1):\n",
    "            region = padded_image[i-1:i+2, j-1:j+2]\n",
    "            Gx[i-1, j-1] = np.sum(region * Kx)\n",
    "            Gy[i-1, j-1] = np.sum(region * Ky)\n",
    "    \n",
    "    # Magnitude do gradiente\n",
    "    magnitude = np.sqrt(Gx**2 + Gy**2)\n",
    "    \n",
    "    return magnitude\n",
    "\n",
    "def apply_threshold(image, threshold):\n",
    "    binary_image = np.zeros_like(image)\n",
    "    binary_image[image > threshold] = 255\n",
    "    return binary_image"
   ]
  },
  {
   "cell_type": "code",
   "execution_count": null,
   "id": "48fd8ddd-a7aa-4833-b01e-dbf973a8b999",
   "metadata": {},
   "outputs": [],
   "source": [
    "for nome_pasta in os.listdir():\n",
    "    if 'gaussiano' in nome_pasta:\n",
    "        for nome_arquivo in os.listdir(nome_pasta):\n",
    "            caminho_threshold = nome_pasta + '_threshold'\n",
    "            if not os.path.isdir(caminho_threshold):\n",
    "                os.mkdir(caminho_threshold)\n",
    "            imagem_cinza = plt.imread(os.path.join(nome_pasta, nome_arquivo))\n",
    "            gradient_magnitude = compute_gradient(imagem_cinza)\n",
    "            threshold_value = 10\n",
    "            binary_image = apply_threshold(gradient_magnitude, threshold_value)\n",
    "            imwrite(os.path.join(caminho_threshold, nome_arquivo), binary_image)"
   ]
  },
  {
   "cell_type": "code",
   "execution_count": null,
   "id": "309ec5d3-bfc0-4994-a905-4156864b734a",
   "metadata": {},
   "outputs": [],
   "source": []
  }
 ],
 "metadata": {
  "kernelspec": {
   "display_name": "Python 3 (ipykernel)",
   "language": "python",
   "name": "python3"
  },
  "language_info": {
   "codemirror_mode": {
    "name": "ipython",
    "version": 3
   },
   "file_extension": ".py",
   "mimetype": "text/x-python",
   "name": "python",
   "nbconvert_exporter": "python",
   "pygments_lexer": "ipython3",
   "version": "3.10.12"
  }
 },
 "nbformat": 4,
 "nbformat_minor": 5
}
